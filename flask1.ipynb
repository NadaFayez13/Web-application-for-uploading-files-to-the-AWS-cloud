{
 "cells": [
  {
   "cell_type": "code",
   "execution_count": null,
   "id": "cb31e417",
   "metadata": {},
   "outputs": [],
   "source": [
    "from flask import Flask, request, jsonify\n",
    "from flask_cors import CORS\n",
    "import boto3\n",
    "from botocore.exceptions import NoCredentialsError\n",
    "import uuid\n",
    "import os\n",
    "\n",
    "app = Flask(__name__)\n",
    "CORS(app, resources={r\"/\": {\"origins\": \"*\"}}, supports_credentials=True)\n",
    "\n",
    "s3 = boto3.client(\n",
    "    's3',\n",
    "    region_name='us-east-1',\n",
    "    aws_access_key_id='add yours',\n",
    "    aws_secret_access_key='add yours'\n",
    ")\n",
    "\n",
    "BUCKET_NAME = 'omnia-shahd'\n",
    "\n",
    "def get_file_folder(filename):\n",
    "    extension = os.path.splitext(filename)[1].lower()\n",
    "    \n",
    "    if extension in ['.jpg', '.jpeg', '.png', '.gif', '.bmp', '.webp']:\n",
    "        return 'images/'\n",
    "    elif extension in ['.pdf', '.doc', '.docx', '.xls', '.xlsx', '.ppt', '.pptx', '.txt']:\n",
    "        return 'documents/'\n",
    "    elif extension in ['.mp4', '.mov', '.avi', '.mkv', '.wmv']:\n",
    "        return 'videos/'\n",
    "    else:\n",
    "        return 'others/'\n",
    "\n",
    "@app.route('/upload', methods=['POST'])\n",
    "def upload_file():\n",
    "    if 'file' not in request.files:\n",
    "        return jsonify({'error': 'No file part'}), 400\n",
    "\n",
    "    file = request.files['file']\n",
    "\n",
    "    if file.filename == '':\n",
    "        return jsonify({'error': 'No selected file'}), 400\n",
    "\n",
    "    try:\n",
    "        folder = get_file_folder(file.filename)\n",
    "        filename = f\"{folder}{uuid.uuid4().hex}_{file.filename}\"\n",
    "        \n",
    "        s3.upload_fileobj(file, BUCKET_NAME, filename)\n",
    "\n",
    "        file_url = f\"https://{BUCKET_NAME}.s3.amazonaws.com/{filename}\"\n",
    "\n",
    "        return jsonify({\n",
    "            'message': 'File uploaded successfully',\n",
    "            'url': file_url,\n",
    "            'folder': folder[:-1]  \n",
    "        }), 200\n",
    "\n",
    "    except NoCredentialsError:\n",
    "        return jsonify({'error': 'Credentials not available'}), 500\n",
    "    except Exception as e:\n",
    "        return jsonify({'error': str(e)}), 500\n",
    "\n",
    "@app.route('/files', methods=['GET'])\n",
    "def list_files():\n",
    "    try:\n",
    "        response = s3.list_objects_v2(Bucket=BUCKET_NAME)\n",
    "\n",
    "        if 'Contents' not in response:\n",
    "            return jsonify({'files': []}), 200\n",
    "\n",
    "        files = []\n",
    "        for obj in response['Contents']:\n",
    "            file_url = f\"https://{BUCKET_NAME}.s3.amazonaws.com/{obj['Key']}\"\n",
    "            files.append({\n",
    "                'url': file_url,\n",
    "                'name': obj['Key'].split('/')[-1],\n",
    "                'folder': obj['Key'].split('/')[0]\n",
    "            })\n",
    "\n",
    "        return jsonify({'files': files}), 200\n",
    "\n",
    "    except Exception as e:\n",
    "        return jsonify({'error': str(e)}), 500\n"
   ]
  },
  {
   "cell_type": "code",
   "execution_count": 2,
   "id": "c197fe86",
   "metadata": {},
   "outputs": [
    {
     "name": "stdout",
     "output_type": "stream",
     "text": [
      " * Serving Flask app '__main__'\n",
      " * Debug mode: on\n"
     ]
    },
    {
     "name": "stderr",
     "output_type": "stream",
     "text": [
      "WARNING: This is a development server. Do not use it in a production deployment. Use a production WSGI server instead.\n",
      " * Running on http://127.0.0.1:5000\n",
      "Press CTRL+C to quit\n",
      "127.0.0.1 - - [10/Jun/2025 07:23:27] \"POST /upload HTTP/1.1\" 200 -\n"
     ]
    }
   ],
   "source": [
    "if __name__ == '__main__':\n",
    "    app.run(port=5000, debug=True, use_reloader=False)"
   ]
  }
 ],
 "metadata": {
  "kernelspec": {
   "display_name": "base",
   "language": "python",
   "name": "python3"
  },
  "language_info": {
   "codemirror_mode": {
    "name": "ipython",
    "version": 3
   },
   "file_extension": ".py",
   "mimetype": "text/x-python",
   "name": "python",
   "nbconvert_exporter": "python",
   "pygments_lexer": "ipython3",
   "version": "3.12.3"
  }
 },
 "nbformat": 4,
 "nbformat_minor": 5
}
